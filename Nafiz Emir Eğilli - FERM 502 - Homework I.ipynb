{
 "cells": [
  {
   "cell_type": "markdown",
   "id": "1111bd3c-11b5-4c41-8d88-f03867c2fab6",
   "metadata": {},
   "source": [
    "# FERM 502 - Derivatives Best Practices - Homework I - Nafiz Emir Eğilli"
   ]
  },
  {
   "cell_type": "markdown",
   "id": "a2a14667-5f89-406a-8954-06782c0ba70b",
   "metadata": {},
   "source": [
    "-----------------------------------------"
   ]
  },
  {
   "cell_type": "markdown",
   "id": "4fbfae86-dd88-40ff-8fd4-a4ff25c6f412",
   "metadata": {},
   "source": [
    "### Q1-) A trader owns 55,000 troy oz of silver and decides to hedge with 6-month silver futures contracts. The silver spot price is 23 dollars per troy ounce and the six-month futures price is $23.6 per troy ounce. Each futures contract is on 5,000 troy oz. The standard deviation of the change in the spot price of silver is 0.32. The standard deviation of the change in silver futures prices is 0.27. The coefficient of correlation between the two is 0.92.\n",
    "### a. What is the optimal hedge ratio? \n",
    "### b. What is the optimal number of futures contracts?"
   ]
  },
  {
   "cell_type": "markdown",
   "id": "52f846de-a822-44ca-adc7-72e6be7d9bcc",
   "metadata": {},
   "source": [
    "### ANSWER: \n",
    "### a-) Optimal Hedge Ratio (h*) formula: $ h^* = \\rho * \\frac{\\sigma_s}{\\sigma_p} = 0.92 * \\frac{0.32}{0.27} = 1.09 $"
   ]
  },
  {
   "cell_type": "markdown",
   "id": "c45fe7e7-903f-4d65-bf62-3052e864e3bc",
   "metadata": {},
   "source": [
    "### b-) Optimal Number of Futures Contracts: $ N^* = h^* * \\frac{Q_s}{Q_f} = 1.09 * \\frac{55000}{5000} = 11.99 $"
   ]
  },
  {
   "cell_type": "markdown",
   "id": "fd7a52e5-6eb8-4e4f-8ddc-c8974fe8ac6a",
   "metadata": {},
   "source": [
    "-----------------------------------------"
   ]
  },
  {
   "cell_type": "markdown",
   "id": "691cd8eb-eeb1-428c-8291-ee722400b3b2",
   "metadata": {},
   "source": [
    "### Q2-) Download daily gold futures prices from Yahoo Finance for last 1 month. (Gold futures ticker: GC=F) Suppose that you have 5 Long Gold futures contract where initial margin is 8500$ and maintenance margin is 7400 dollars for one contract. (Contract size is 100 oz of gold) Provide a daily table for each of the day as below:"
   ]
  },
  {
   "attachments": {
    "feacec78-cda9-4639-bcaf-995b5b6eeb2e.png": {
     "image/png": "[encoded data removed]"
    }
   },
   "cell_type": "markdown",
   "id": "6c437505-cacd-4052-bce0-f46e2a548734",
   "metadata": {},
   "source": [
    "![image.png](attachment:feacec78-cda9-4639-bcaf-995b5b6eeb2e.png)"
   ]
  },
  {
   "cell_type": "markdown",
   "id": "8b3da563-f0f0-4aca-bb7d-166ed391b55c",
   "metadata": {},
   "source": [
    "### ANSWER:"
   ]
  },
  {
   "cell_type": "code",
   "execution_count": 1,
   "id": "02483ad9-e649-4857-b79e-e514864fa9dc",
   "metadata": {},
   "outputs": [],
   "source": [
    "import yfinance as yf\n",
    "import pandas as pd\n",
    "import numpy as np"
   ]
  },
  {
   "cell_type": "code",
   "execution_count": 2,
   "id": "f2acec78-cb8c-4013-8c3f-3cc3fb3cb7a3",
   "metadata": {},
   "outputs": [
    {
     "name": "stdout",
     "output_type": "stream",
     "text": [
      "[*********************100%***********************]  1 of 1 completed\n"
     ]
    },
    {
     "data": {
      "text/html": [
       "<div>\n",
       "<style scoped>\n",
       "    .dataframe tbody tr th:only-of-type {\n",
       "        vertical-align: middle;\n",
       "    }\n",
       "\n",
       "    .dataframe tbody tr th {\n",
       "        vertical-align: top;\n",
       "    }\n",
       "\n",
       "    .dataframe thead th {\n",
       "        text-align: right;\n",
       "    }\n",
       "</style>\n",
       "<table border=\"1\" class=\"dataframe\">\n",
       "  <thead>\n",
       "    <tr style=\"text-align: right;\">\n",
       "      <th></th>\n",
       "      <th>Date</th>\n",
       "      <th>Close</th>\n",
       "      <th>Daily Gain/Loss $</th>\n",
       "      <th>Cumulative Gain $</th>\n",
       "      <th>Margin Balance $</th>\n",
       "      <th>Margin Call $</th>\n",
       "    </tr>\n",
       "  </thead>\n",
       "  <tbody>\n",
       "    <tr>\n",
       "      <th>0</th>\n",
       "      <td>2024-01-29</td>\n",
       "      <td>2025.199951</td>\n",
       "      <td>0.000000</td>\n",
       "      <td>0.000000</td>\n",
       "      <td>0.000000</td>\n",
       "      <td>0.000000</td>\n",
       "    </tr>\n",
       "    <tr>\n",
       "      <th>1</th>\n",
       "      <td>2024-01-30</td>\n",
       "      <td>2031.500000</td>\n",
       "      <td>3150.024414</td>\n",
       "      <td>3150.024414</td>\n",
       "      <td>45650.024414</td>\n",
       "      <td>0.000000</td>\n",
       "    </tr>\n",
       "    <tr>\n",
       "      <th>2</th>\n",
       "      <td>2024-01-31</td>\n",
       "      <td>2048.399902</td>\n",
       "      <td>8449.951172</td>\n",
       "      <td>11599.975586</td>\n",
       "      <td>54099.975586</td>\n",
       "      <td>0.000000</td>\n",
       "    </tr>\n",
       "    <tr>\n",
       "      <th>3</th>\n",
       "      <td>2024-02-01</td>\n",
       "      <td>2053.000000</td>\n",
       "      <td>2300.048828</td>\n",
       "      <td>13900.024414</td>\n",
       "      <td>56400.024414</td>\n",
       "      <td>0.000000</td>\n",
       "    </tr>\n",
       "    <tr>\n",
       "      <th>4</th>\n",
       "      <td>2024-02-02</td>\n",
       "      <td>2036.099976</td>\n",
       "      <td>-8450.012207</td>\n",
       "      <td>5450.012207</td>\n",
       "      <td>47950.012207</td>\n",
       "      <td>0.000000</td>\n",
       "    </tr>\n",
       "    <tr>\n",
       "      <th>5</th>\n",
       "      <td>2024-02-05</td>\n",
       "      <td>2025.699951</td>\n",
       "      <td>-5200.012207</td>\n",
       "      <td>250.000000</td>\n",
       "      <td>42750.000000</td>\n",
       "      <td>0.000000</td>\n",
       "    </tr>\n",
       "    <tr>\n",
       "      <th>6</th>\n",
       "      <td>2024-02-06</td>\n",
       "      <td>2034.500000</td>\n",
       "      <td>4400.024414</td>\n",
       "      <td>4650.024414</td>\n",
       "      <td>47150.024414</td>\n",
       "      <td>0.000000</td>\n",
       "    </tr>\n",
       "    <tr>\n",
       "      <th>7</th>\n",
       "      <td>2024-02-07</td>\n",
       "      <td>2035.199951</td>\n",
       "      <td>349.975586</td>\n",
       "      <td>5000.000000</td>\n",
       "      <td>47500.000000</td>\n",
       "      <td>0.000000</td>\n",
       "    </tr>\n",
       "    <tr>\n",
       "      <th>8</th>\n",
       "      <td>2024-02-08</td>\n",
       "      <td>2032.199951</td>\n",
       "      <td>-1500.000000</td>\n",
       "      <td>3500.000000</td>\n",
       "      <td>46000.000000</td>\n",
       "      <td>0.000000</td>\n",
       "    </tr>\n",
       "    <tr>\n",
       "      <th>9</th>\n",
       "      <td>2024-02-09</td>\n",
       "      <td>2023.300049</td>\n",
       "      <td>-4449.951172</td>\n",
       "      <td>-949.951172</td>\n",
       "      <td>41550.048828</td>\n",
       "      <td>0.000000</td>\n",
       "    </tr>\n",
       "    <tr>\n",
       "      <th>10</th>\n",
       "      <td>2024-02-12</td>\n",
       "      <td>2018.199951</td>\n",
       "      <td>-2550.048828</td>\n",
       "      <td>-3500.000000</td>\n",
       "      <td>39000.000000</td>\n",
       "      <td>0.000000</td>\n",
       "    </tr>\n",
       "    <tr>\n",
       "      <th>11</th>\n",
       "      <td>2024-02-13</td>\n",
       "      <td>1992.900024</td>\n",
       "      <td>-12649.963379</td>\n",
       "      <td>-16149.963379</td>\n",
       "      <td>26350.036621</td>\n",
       "      <td>10649.963379</td>\n",
       "    </tr>\n",
       "    <tr>\n",
       "      <th>12</th>\n",
       "      <td>2024-02-14</td>\n",
       "      <td>1990.300049</td>\n",
       "      <td>-1299.987793</td>\n",
       "      <td>-17449.951172</td>\n",
       "      <td>25050.048828</td>\n",
       "      <td>11949.951172</td>\n",
       "    </tr>\n",
       "    <tr>\n",
       "      <th>13</th>\n",
       "      <td>2024-02-15</td>\n",
       "      <td>2002.099976</td>\n",
       "      <td>5899.963379</td>\n",
       "      <td>-11549.987793</td>\n",
       "      <td>30950.012207</td>\n",
       "      <td>6049.987793</td>\n",
       "    </tr>\n",
       "    <tr>\n",
       "      <th>14</th>\n",
       "      <td>2024-02-16</td>\n",
       "      <td>2011.500000</td>\n",
       "      <td>4700.012207</td>\n",
       "      <td>-6849.975586</td>\n",
       "      <td>35650.024414</td>\n",
       "      <td>1349.975586</td>\n",
       "    </tr>\n",
       "    <tr>\n",
       "      <th>15</th>\n",
       "      <td>2024-02-19</td>\n",
       "      <td>2015.599976</td>\n",
       "      <td>2049.987793</td>\n",
       "      <td>-4799.987793</td>\n",
       "      <td>37700.012207</td>\n",
       "      <td>0.000000</td>\n",
       "    </tr>\n",
       "    <tr>\n",
       "      <th>16</th>\n",
       "      <td>2024-02-20</td>\n",
       "      <td>2027.500000</td>\n",
       "      <td>5950.012207</td>\n",
       "      <td>1150.024414</td>\n",
       "      <td>43650.024414</td>\n",
       "      <td>0.000000</td>\n",
       "    </tr>\n",
       "    <tr>\n",
       "      <th>17</th>\n",
       "      <td>2024-02-21</td>\n",
       "      <td>2022.300049</td>\n",
       "      <td>-2599.975586</td>\n",
       "      <td>-1449.951172</td>\n",
       "      <td>41050.048828</td>\n",
       "      <td>0.000000</td>\n",
       "    </tr>\n",
       "    <tr>\n",
       "      <th>18</th>\n",
       "      <td>2024-02-22</td>\n",
       "      <td>2019.699951</td>\n",
       "      <td>-1300.048828</td>\n",
       "      <td>-2750.000000</td>\n",
       "      <td>39750.000000</td>\n",
       "      <td>0.000000</td>\n",
       "    </tr>\n",
       "    <tr>\n",
       "      <th>19</th>\n",
       "      <td>2024-02-23</td>\n",
       "      <td>2038.599976</td>\n",
       "      <td>9450.012207</td>\n",
       "      <td>6700.012207</td>\n",
       "      <td>49200.012207</td>\n",
       "      <td>0.000000</td>\n",
       "    </tr>\n",
       "    <tr>\n",
       "      <th>20</th>\n",
       "      <td>2024-02-26</td>\n",
       "      <td>2028.500000</td>\n",
       "      <td>-5049.987793</td>\n",
       "      <td>1650.024414</td>\n",
       "      <td>44150.024414</td>\n",
       "      <td>0.000000</td>\n",
       "    </tr>\n",
       "    <tr>\n",
       "      <th>21</th>\n",
       "      <td>2024-02-27</td>\n",
       "      <td>2034.000000</td>\n",
       "      <td>2750.000000</td>\n",
       "      <td>4400.024414</td>\n",
       "      <td>46900.024414</td>\n",
       "      <td>0.000000</td>\n",
       "    </tr>\n",
       "  </tbody>\n",
       "</table>\n",
       "</div>"
      ],
      "text/plain": [
       "         Date        Close  Daily Gain/Loss $  Cumulative Gain $  \\\n",
       "0  2024-01-29  2025.199951           0.000000           0.000000   \n",
       "1  2024-01-30  2031.500000        3150.024414        3150.024414   \n",
       "2  2024-01-31  2048.399902        8449.951172       11599.975586   \n",
       "3  2024-02-01  2053.000000        2300.048828       13900.024414   \n",
       "4  2024-02-02  2036.099976       -8450.012207        5450.012207   \n",
       "5  2024-02-05  2025.699951       -5200.012207         250.000000   \n",
       "6  2024-02-06  2034.500000        4400.024414        4650.024414   \n",
       "7  2024-02-07  2035.199951         349.975586        5000.000000   \n",
       "8  2024-02-08  2032.199951       -1500.000000        3500.000000   \n",
       "9  2024-02-09  2023.300049       -4449.951172        -949.951172   \n",
       "10 2024-02-12  2018.199951       -2550.048828       -3500.000000   \n",
       "11 2024-02-13  1992.900024      -12649.963379      -16149.963379   \n",
       "12 2024-02-14  1990.300049       -1299.987793      -17449.951172   \n",
       "13 2024-02-15  2002.099976        5899.963379      -11549.987793   \n",
       "14 2024-02-16  2011.500000        4700.012207       -6849.975586   \n",
       "15 2024-02-19  2015.599976        2049.987793       -4799.987793   \n",
       "16 2024-02-20  2027.500000        5950.012207        1150.024414   \n",
       "17 2024-02-21  2022.300049       -2599.975586       -1449.951172   \n",
       "18 2024-02-22  2019.699951       -1300.048828       -2750.000000   \n",
       "19 2024-02-23  2038.599976        9450.012207        6700.012207   \n",
       "20 2024-02-26  2028.500000       -5049.987793        1650.024414   \n",
       "21 2024-02-27  2034.000000        2750.000000        4400.024414   \n",
       "\n",
       "    Margin Balance $  Margin Call $  \n",
       "0           0.000000       0.000000  \n",
       "1       45650.024414       0.000000  \n",
       "2       54099.975586       0.000000  \n",
       "3       56400.024414       0.000000  \n",
       "4       47950.012207       0.000000  \n",
       "5       42750.000000       0.000000  \n",
       "6       47150.024414       0.000000  \n",
       "7       47500.000000       0.000000  \n",
       "8       46000.000000       0.000000  \n",
       "9       41550.048828       0.000000  \n",
       "10      39000.000000       0.000000  \n",
       "11      26350.036621   10649.963379  \n",
       "12      25050.048828   11949.951172  \n",
       "13      30950.012207    6049.987793  \n",
       "14      35650.024414    1349.975586  \n",
       "15      37700.012207       0.000000  \n",
       "16      43650.024414       0.000000  \n",
       "17      41050.048828       0.000000  \n",
       "18      39750.000000       0.000000  \n",
       "19      49200.012207       0.000000  \n",
       "20      44150.024414       0.000000  \n",
       "21      46900.024414       0.000000  "
      ]
     },
     "execution_count": 2,
     "metadata": {},
     "output_type": "execute_result"
    }
   ],
   "source": [
    "# Download the data for Gold Futures 'GC=F'\n",
    "data = yf.download('GC=F', start=\"2024-01-27\", end=\"2024-02-28\")\n",
    "# 5 contracts, each contract of 100 oz\n",
    "data['Daily Gain/Loss $'] = data['Adj Close'].diff() * 100 * 5\n",
    "\n",
    "# Initial and maintenance margins\n",
    "initial_margin = 8500 * 5\n",
    "maintenance_margin = 7400 * 5\n",
    "\n",
    "# Cumulative Gain/Loss\n",
    "data['Cumulative Gain $'] = data['Daily Gain/Loss $'].cumsum()\n",
    "\n",
    "# Initial margin balance changes daily based on the cumulative gain/loss\n",
    "data['Margin Balance $'] = initial_margin + data['Cumulative Gain $']\n",
    "\n",
    "# Margin call is issued when balance falls below maintenance margin\n",
    "data['Margin Call $'] = np.where(data['Margin Balance $'] < maintenance_margin,\n",
    "                                 maintenance_margin - data['Margin Balance $'],\n",
    "                                 0)\n",
    "\n",
    "# Fill NaN values with zeroes\n",
    "data['Daily Gain/Loss $'] = data['Daily Gain/Loss $'].fillna(0)\n",
    "data['Cumulative Gain $'] = data['Cumulative Gain $'].fillna(0)\n",
    "data['Margin Balance $'] = data['Margin Balance $'].fillna(0)\n",
    "\n",
    "# Reset index to move the Date from index to column\n",
    "data.reset_index(inplace=True)\n",
    "\n",
    "# Select only the relevant columns\n",
    "data = data[['Date', 'Close', 'Daily Gain/Loss $', 'Cumulative Gain $', 'Margin Balance $', 'Margin Call $']]\n",
    "data"
   ]
  },
  {
   "cell_type": "markdown",
   "id": "5bbd02ee-f1f5-40b1-b3b2-f6790bec97a0",
   "metadata": {},
   "source": [
    "-----------------------------------------"
   ]
  },
  {
   "cell_type": "markdown",
   "id": "1ad91943-f642-4e79-adb2-9babe503b024",
   "metadata": {},
   "source": [
    "### Q3-) Suppose that an interest rate swap pays floating 6 month LIBOR versus 6% fixed, semiannually. The notional is $100 million and the remaining life of the swap is 1.75 years. The last 6-month LIBOR rate was 3.2%. Suppose we know that LIBOR continuously compounded is 3%, 3.5%, 3.7%, and 4.3% for the 3-month, 9-month, 15-month, and 21- month periods. What is the value of this swap?"
   ]
  },
  {
   "cell_type": "markdown",
   "id": "df15a16f-8b21-4f71-8ed1-11a19ccc86ad",
   "metadata": {},
   "source": [
    "### ANSWER:\n",
    "### Value of the swap: $ V_{swap} = PV_{fixed} - PV_{floating} $\n",
    "### Present value of a series of cash flows: \n",
    "## $ PV = \\sum_{i=1}^{n} \\frac{C_i}{e^{r_i \\cdot t_i}} $"
   ]
  },
  {
   "cell_type": "code",
   "execution_count": 3,
   "id": "42fd597b-4279-4d3e-a776-bf84bc25acd5",
   "metadata": {},
   "outputs": [
    {
     "name": "stdout",
     "output_type": "stream",
     "text": [
      "Value of the Swap: -1736112.76\n"
     ]
    }
   ],
   "source": [
    "notional = 100e6  # $100 million\n",
    "fixed_rate_annual = 0.06  # 6% fixed annually\n",
    "fixed_payment_semiannual = fixed_rate_annual / 2 * notional  # $3 million every six months\n",
    "\n",
    "# The semiannual periods for the remaining life of the swap (1.75 years)\n",
    "periods = [0.5, 1, 1.5]\n",
    "\n",
    "# Continuously compounded LIBOR rates for the future periods\n",
    "libor_rates = [0.03, 0.035, 0.037, 0.043]  # Rates for 3-month, 9-month, 15-month, 21-month\n",
    "\n",
    "# The present value of the fixed leg payments\n",
    "pv_fixed_leg = sum([fixed_payment_semiannual / np.exp(libor_rates[i] * periods[i]) for i in range(len(periods))])\n",
    "\n",
    "# The present value of the floating leg payments\n",
    "# The next floating payment is known (3.2% of $100 million semiannually)\n",
    "next_floating_payment = 0.032 / 2 * notional\n",
    "\n",
    "# We discount the known next floating payment by the 3-month LIBOR rate as it is the next payment\n",
    "pv_floating_leg = next_floating_payment / np.exp(libor_rates[0] * 0.25)  # The payment is in 3 months\n",
    "\n",
    "# For subsequent floating payments, we assume that the floating rate will be set equal to the current forward rates given by the LIBOR rates\n",
    "# We discount those by the same LIBOR rates for simplicity, as it is a common practice in swap valuation when forward rates are not available\n",
    "for i in range(1, len(periods)):\n",
    "    floating_payment = notional * (np.exp(libor_rates[i] * periods[i]) - 1)  # This assumes semiannual compounding\n",
    "    pv_floating_leg += floating_payment / np.exp(libor_rates[i] * periods[i])\n",
    "\n",
    "# The value of the swap is the difference between the present values of the fixed and floating legs\n",
    "value_of_swap = pv_fixed_leg - pv_floating_leg\n",
    "print(f\"Value of the Swap: {value_of_swap:.2f}\")"
   ]
  },
  {
   "cell_type": "markdown",
   "id": "5ecd48da-40f3-4ffa-ba4d-8ded2c3aeac5",
   "metadata": {},
   "source": [
    "-----------------------------------------"
   ]
  },
  {
   "attachments": {
    "1492e3a8-15c3-458c-9925-e606b0804f23.png": {
     "image/png": "[encoded data removed]"
    }
   },
   "cell_type": "markdown",
   "id": "ac1d6f30-f924-4ebf-b269-69eb592545f3",
   "metadata": {},
   "source": [
    "### Q4-) A Turkish bank entered a cross-currency swap some time ago and the swap has exactly 18 months to run. Under the swap, the bank pays a foreign bank a 12-month USD LIBOR rate and receives fixed interest at 25% p.a. (annually compounded) in TRY. Swap interest payments are made yearly. The initial principal amounts of the swap were TRY 200.0 million and USD 10.0 million. The 12-month USD LIBOR rate six months ago was 4% p.a. (annually compounded). The current spot rate of the Turkish Lira is 1 USD = 30 TRY. The current zero-coupon yields in the TRY and USD market are as follows: (c.c. = continuously compounded)\n",
    "\n",
    "![image.png](attachment:1492e3a8-15c3-458c-9925-e606b0804f23.png)\n",
    "\n",
    "### What is the value of the swap to the Turkish bank today?"
   ]
  },
  {
   "cell_type": "markdown",
   "id": "027461e6-2c64-4b8d-a927-d0e6516a8a39",
   "metadata": {},
   "source": [
    "### ANSWER:"
   ]
  },
  {
   "cell_type": "code",
   "execution_count": 4,
   "id": "7ba6d271-290b-46f9-b0ac-4797c31d4fbe",
   "metadata": {},
   "outputs": [
    {
     "data": {
      "text/plain": [
       "(159407037.90544334, 9677521.31643654, 5313567.930181445, -4363953.386255096)"
      ]
     },
     "execution_count": 4,
     "metadata": {},
     "output_type": "execute_result"
    }
   ],
   "source": [
    "# Given data\n",
    "TRY_principal = 200e6  # TRY 200 million\n",
    "USD_principal = 10e6   # USD 10 million\n",
    "fixed_TRY_rate = 0.25  # 25% p.a. fixed in TRY\n",
    "USD_LIBOR = 0.04       # 4% p.a. USD LIBOR\n",
    "spot_rate = 30         # 1 USD = 30 TRY\n",
    "remaining_years = 1.5  # 18 months to run\n",
    "\n",
    "# TRY and USD zero-coupon yields (continuously compounded)\n",
    "TRY_yield = 0.30  # 30% for 1.5 years\n",
    "USD_yield = 0.048  # 4.8% for 1.5 years\n",
    "\n",
    "# Calculate TRY cash flow to be received\n",
    "TRY_cash_flow = TRY_principal * (1 + fixed_TRY_rate)\n",
    "\n",
    "# Discount the TRY cash flow to present value\n",
    "PV_TRY = TRY_cash_flow * np.exp(-TRY_yield * remaining_years)\n",
    "\n",
    "# Calculate USD cash flow to be paid\n",
    "USD_cash_flow = USD_principal * (1 + USD_LIBOR)\n",
    "\n",
    "# Discount the USD cash flow to present value\n",
    "PV_USD = USD_cash_flow * np.exp(-USD_yield * remaining_years)\n",
    "\n",
    "# Convert the present value of the TRY cash flow to USD\n",
    "PV_TRY_in_USD = PV_TRY / spot_rate\n",
    "\n",
    "# Calculate the net present value of the swap in USD\n",
    "Value_swap = PV_TRY_in_USD - PV_USD\n",
    "\n",
    "PV_TRY, PV_USD, PV_TRY_in_USD, Value_swap\n"
   ]
  },
  {
   "cell_type": "markdown",
   "id": "242c6435-99ee-4374-bf66-85334a57efeb",
   "metadata": {},
   "source": [
    "### The present value of the TRY cash flow discounted back to today is approximately TRY 159,407,038. The present value of the USD cash flow discounted back to today is approximately USD 9,677,521. When converting the TRY present value to USD at the current spot rate, we get approximately USD 5,313,568.\n",
    "\n",
    "### Therefore, the net present value of the swap to the Turkish bank is approximately -USD 4,363,953. This negative value indicates that the swap is a liability to the Turkish bank under the current market conditions. "
   ]
  }
 ],
 "metadata": {
  "kernelspec": {
   "display_name": "Python 3 (ipykernel)",
   "language": "python",
   "name": "python3"
  },
  "language_info": {
   "codemirror_mode": {
    "name": "ipython",
    "version": 3
   },
   "file_extension": ".py",
   "mimetype": "text/x-python",
   "name": "python",
   "nbconvert_exporter": "python",
   "pygments_lexer": "ipython3",
   "version": "3.9.12"
  }
 },
 "nbformat": 4,
 "nbformat_minor": 5
}
